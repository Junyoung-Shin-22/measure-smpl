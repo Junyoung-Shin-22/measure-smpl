{
 "cells": [
  {
   "cell_type": "code",
   "execution_count": 23,
   "metadata": {},
   "outputs": [
    {
     "name": "stdout",
     "output_type": "stream",
     "text": [
      "The autoreload extension is already loaded. To reload it, use:\n",
      "  %reload_ext autoreload\n"
     ]
    }
   ],
   "source": [
    "%load_ext autoreload\n",
    "%autoreload 2"
   ]
  },
  {
   "cell_type": "code",
   "execution_count": 24,
   "metadata": {},
   "outputs": [],
   "source": [
    "import numpy as np\n",
    "import matplotlib.pyplot as plt\n",
    "\n",
    "from scipy.spatial import ConvexHull"
   ]
  },
  {
   "cell_type": "code",
   "execution_count": 25,
   "metadata": {},
   "outputs": [],
   "source": [
    "from util import on_y,loop_length"
   ]
  },
  {
   "cell_type": "code",
   "execution_count": 26,
   "metadata": {},
   "outputs": [
    {
     "name": "stdout",
     "output_type": "stream",
     "text": [
      "6890\n",
      "13776\n"
     ]
    }
   ],
   "source": [
    "vertex = []\n",
    "face = []\n",
    "\n",
    "with open(\"./smpl_uv.obj\", \"r\") as f:\n",
    "    data = f.read().splitlines()\n",
    "\n",
    "    for row in data:\n",
    "        t, *coord = row.split()\n",
    "\n",
    "        if t == 'v':\n",
    "            vertex.append([float(i) for i in coord])\n",
    "        elif t == 'f':\n",
    "            face.append([int(i.split('/')[0]) - 1 for i in coord])\n",
    "\n",
    "vertex = np.array(vertex, dtype='float32')\n",
    "\n",
    "print(len(vertex))\n",
    "print(len(face))"
   ]
  },
  {
   "cell_type": "code",
   "execution_count": 27,
   "metadata": {},
   "outputs": [
    {
     "name": "stdout",
     "output_type": "stream",
     "text": [
      "1.6583941\n",
      "411\n"
     ]
    }
   ],
   "source": [
    "v_y = vertex[:, 1]\n",
    "\n",
    "height = max(v_y) - min(v_y)\n",
    "# print(len(v_y))\n",
    "print(height)\n",
    "\n",
    "head_top_index = np.argmax(v_y)\n",
    "print(head_top_index)"
   ]
  },
  {
   "cell_type": "code",
   "execution_count": 28,
   "metadata": {},
   "outputs": [],
   "source": [
    "v_x = vertex[:, 0] # -> side\n",
    "v_z = vertex[:, 2] # -> front/back"
   ]
  },
  {
   "cell_type": "code",
   "execution_count": 29,
   "metadata": {},
   "outputs": [],
   "source": [
    "navel = vertex[3500,1] \n",
    "\n",
    "belt_idx = np.arange(len(vertex))[abs(vertex[:, 1] - navel) < 1e-2]\n",
    "\n",
    "vertex_near_sagittal_plane = vertex[abs(vertex[:, 1] - navel) < 1e-2].copy()\n",
    "vertex_near_sagittal_plane[:,1] = 0\n"
   ]
  },
  {
   "cell_type": "code",
   "execution_count": 30,
   "metadata": {},
   "outputs": [],
   "source": [
    "hull = ConvexHull(vertex_near_sagittal_plane[:,[0,2]])"
   ]
  },
  {
   "cell_type": "code",
   "execution_count": 31,
   "metadata": {},
   "outputs": [
    {
     "data": {
      "text/plain": [
       "Text(0.5, 1.0, 'Scatter plot example')"
      ]
     },
     "execution_count": 31,
     "metadata": {},
     "output_type": "execute_result"
    },
    {
     "data": {
      "image/png": "[encoded data removed]",
      "text/plain": [
       "<Figure size 640x480 with 1 Axes>"
      ]
     },
     "metadata": {},
     "output_type": "display_data"
    }
   ],
   "source": [
    "fig, ax = plt.subplots()\n",
    "\n",
    "ax.scatter(vertex_near_sagittal_plane[:,0], vertex_near_sagittal_plane[:,2], color='red', marker='o')\n",
    "ax.scatter(vertex[3500,0], vertex[3500,2], color='blue', marker='o')\n",
    "ax.scatter(vertex_near_sagittal_plane[hull.vertices,0], vertex_near_sagittal_plane[hull.vertices,2], color='green', marker='o')\n",
    "\n",
    "# for i, txt in enumerate(belt_idx):\n",
    "#     ax.annotate(txt, (vertex_near_sagittal_plane[i,0], vertex_near_sagittal_plane[i,2]))\n",
    "\n",
    "plt.xlabel('X-axis label')\n",
    "plt.ylabel('Y-axis label')\n",
    "plt.title('Scatter plot example')"
   ]
  },
  {
   "cell_type": "code",
   "execution_count": 32,
   "metadata": {},
   "outputs": [
    {
     "data": {
      "text/plain": [
       "[[678, 665, 679],\n",
       " [846, 830, 677],\n",
       " [916, 917, 861],\n",
       " [861, 917, 858],\n",
       " [918, 919, 855],\n",
       " [855, 919, 920],\n",
       " [939, 846, 938],\n",
       " [938, 846, 677],\n",
       " [1336, 1337, 917],\n",
       " [917, 1337, 858],\n",
       " [1448, 1449, 678],\n",
       " [678, 1449, 705],\n",
       " [1780, 1781, 1779],\n",
       " [1779, 1781, 1782],\n",
       " [2915, 2916, 830],\n",
       " [830, 2916, 831],\n",
       " [2917, 2918, 844],\n",
       " [844, 2918, 845],\n",
       " [846, 2915, 830],\n",
       " [2918, 2911, 845],\n",
       " [845, 2911, 886],\n",
       " [2916, 2917, 831],\n",
       " [831, 2917, 844],\n",
       " [2929, 2928, 3122],\n",
       " [3122, 2928, 2910],\n",
       " [1779, 2929, 1780],\n",
       " [1780, 2929, 3122],\n",
       " [855, 679, 918],\n",
       " [918, 679, 665],\n",
       " [678, 679, 1448],\n",
       " [938, 705, 939],\n",
       " [939, 705, 1449],\n",
       " [2911, 2910, 886],\n",
       " [886, 2910, 2928],\n",
       " [861, 920, 916],\n",
       " [916, 920, 919],\n",
       " [1336, 1767, 3500],\n",
       " [3500, 1767, 3501],\n",
       " [1336, 3500, 1337],\n",
       " [1337, 3500, 1768],\n",
       " [1781, 1784, 1782],\n",
       " [1782, 1784, 3021],\n",
       " [4167, 4151, 4166],\n",
       " [4166, 4151, 4150],\n",
       " [4150, 4193, 4166],\n",
       " [4165, 4317, 4332],\n",
       " [4344, 4402, 4345],\n",
       " [4345, 4402, 4403],\n",
       " [4404, 4405, 4341],\n",
       " [4341, 4405, 4406],\n",
       " [4165, 4332, 4424],\n",
       " [4424, 4332, 4425],\n",
       " [4812, 4402, 4813],\n",
       " [4813, 4402, 4344],\n",
       " [4193, 4921, 4166],\n",
       " [5245, 5246, 5244],\n",
       " [5244, 5246, 5247],\n",
       " [4316, 6374, 4317],\n",
       " [4317, 6374, 6375],\n",
       " [4330, 6376, 4331],\n",
       " [4331, 6376, 6377],\n",
       " [6375, 4332, 4317],\n",
       " [4373, 6370, 4330],\n",
       " [4330, 6370, 6376],\n",
       " [4331, 6377, 4316],\n",
       " [4316, 6377, 6374],\n",
       " [6371, 6389, 6544],\n",
       " [6544, 6389, 6388],\n",
       " [6544, 6388, 5247],\n",
       " [5247, 6388, 5244],\n",
       " [4151, 4167, 4406],\n",
       " [4406, 4167, 4341],\n",
       " [4921, 4193, 4425],\n",
       " [4425, 4193, 4424],\n",
       " [6389, 6371, 4373],\n",
       " [4373, 6371, 6370],\n",
       " [4405, 4404, 4403],\n",
       " [4403, 4404, 4345],\n",
       " [3501, 5234, 3500],\n",
       " [3500, 5234, 4812],\n",
       " [1768, 3500, 4813],\n",
       " [4813, 3500, 4812],\n",
       " [3021, 1784, 5245],\n",
       " [5245, 1784, 5246]]"
      ]
     },
     "execution_count": 32,
     "metadata": {},
     "output_type": "execute_result"
    }
   ],
   "source": [
    "belt = []\n",
    "\n",
    "for triangle_point_idx in face:\n",
    "    if on_y(vertex,triangle_point_idx,navel):\n",
    "        belt.append(triangle_point_idx)\n",
    "\n",
    "belt"
   ]
  },
  {
   "cell_type": "code",
   "execution_count": 33,
   "metadata": {},
   "outputs": [
    {
     "data": {
      "text/plain": [
       "0.8859267197549343"
      ]
     },
     "execution_count": 33,
     "metadata": {},
     "output_type": "execute_result"
    }
   ],
   "source": [
    "loop_length(vertex_near_sagittal_plane[:,[0,2]],hull.vertices)"
   ]
  }
 ],
 "metadata": {
  "kernelspec": {
   "display_name": ".venv",
   "language": "python",
   "name": "python3"
  },
  "language_info": {
   "codemirror_mode": {
    "name": "ipython",
    "version": 3
   },
   "file_extension": ".py",
   "mimetype": "text/x-python",
   "name": "python",
   "nbconvert_exporter": "python",
   "pygments_lexer": "ipython3",
   "version": "3.10.10"
  },
  "orig_nbformat": 4,
  "vscode": {
   "interpreter": {
    "hash": "e5ad99a01d85beb3f043d2ef32289196740adb046af8c7a5ddc7c61b6f6a1a32"
   }
  }
 },
 "nbformat": 4,
 "nbformat_minor": 2
}
