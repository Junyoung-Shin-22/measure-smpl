{
 "cells": [
  {
   "cell_type": "code",
   "execution_count": 9,
   "metadata": {},
   "outputs": [],
   "source": [
    "import numpy as np"
   ]
  },
  {
   "cell_type": "code",
   "execution_count": 10,
   "metadata": {},
   "outputs": [
    {
     "name": "stdout",
     "output_type": "stream",
     "text": [
      "6890\n",
      "13776\n"
     ]
    }
   ],
   "source": [
    "vertex = []\n",
    "face = []\n",
    "\n",
    "with open(\"./smpl_uv.obj\", \"r\") as f:\n",
    "    data = f.read().splitlines()\n",
    "\n",
    "    for row in data:\n",
    "        t, *coord = row.split()\n",
    "\n",
    "        if t == 'v':\n",
    "            vertex.append([float(i) for i in coord])\n",
    "        elif t == 'f':\n",
    "            face.append([int(i.split('/')[0]) for i in coord])\n",
    "\n",
    "vertex = np.array(vertex, dtype='float32')\n",
    "\n",
    "print(len(vertex))\n",
    "print(len(face))"
   ]
  },
  {
   "cell_type": "code",
   "execution_count": 17,
   "metadata": {},
   "outputs": [
    {
     "name": "stdout",
     "output_type": "stream",
     "text": [
      "1.6583941\n",
      "411\n"
     ]
    }
   ],
   "source": [
    "v_y = vertex[:, 1]\n",
    "\n",
    "height = max(v_y) - min(v_y)\n",
    "# print(len(v_y))\n",
    "print(height)\n",
    "\n",
    "head_top_index = np.argmax(v_y)\n",
    "print(head_top_index)"
   ]
  },
  {
   "cell_type": "code",
   "execution_count": null,
   "metadata": {},
   "outputs": [],
   "source": []
  }
 ],
 "metadata": {
  "kernelspec": {
   "display_name": "mesh",
   "language": "python",
   "name": "python3"
  },
  "language_info": {
   "codemirror_mode": {
    "name": "ipython",
    "version": 3
   },
   "file_extension": ".py",
   "mimetype": "text/x-python",
   "name": "python",
   "nbconvert_exporter": "python",
   "pygments_lexer": "ipython3",
   "version": "3.8.16"
  },
  "orig_nbformat": 4,
  "vscode": {
   "interpreter": {
    "hash": "5d4fe36fabe5a67f124f92a80734bdd325383b02c64b826437f87fd08b81c8ba"
   }
  }
 },
 "nbformat": 4,
 "nbformat_minor": 2
}
